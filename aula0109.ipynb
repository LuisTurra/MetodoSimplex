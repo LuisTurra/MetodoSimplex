{
 "cells": [
  {
   "cell_type": "markdown",
   "id": "2c8dc2ce",
   "metadata": {},
   "source": [
    "# Exemplo"
   ]
  },
  {
   "cell_type": "code",
   "execution_count": 5,
   "id": "f8ee8534",
   "metadata": {},
   "outputs": [
    {
     "name": "stdout",
     "output_type": "stream",
     "text": [
      "Objeto valor:15.0\n",
      "Solução: x = 0.0, y = 0.0, z = 15.0\n"
     ]
    }
   ],
   "source": [
    "from ortools.linear_solver import pywraplp\n",
    "solver = pywraplp.Solver.CreateSolver('GLOP')\n",
    "\n",
    "x = solver.NumVar(0.0, solver.infinity(), 'x')\n",
    "y = solver.NumVar(0.0, solver.infinity(), 'y')\n",
    "z = solver.NumVar(0.0, solver.infinity(), 'z')\n",
    "solver.Maximize(x+y+z)\n",
    "\n",
    "solver.Add(3*x+3*y+2*z<=30)\n",
    "solver.Add(6*x+3*y+0*z<=48)\n",
    "\n",
    "\n",
    "results = solver.Solve()\n",
    "\n",
    "print(f'Objeto valor:{solver.Objective().Value()}')\n",
    "print(f'Solução: x = {x.solution_value()}, y = {y.solution_value()}, z = {z.solution_value()}')\n",
    " "
   ]
  },
  {
   "cell_type": "markdown",
   "id": "5501d48a",
   "metadata": {},
   "source": [
    "# Exercicios"
   ]
  },
  {
   "cell_type": "code",
   "execution_count": 6,
   "id": "8f324e90",
   "metadata": {},
   "outputs": [
    {
     "name": "stdout",
     "output_type": "stream",
     "text": [
      "Objeto valor:15.0\n",
      "Solução: x = 3.0, y = 0.0\n"
     ]
    }
   ],
   "source": [
    "#1\n",
    "from ortools.linear_solver import pywraplp\n",
    "solver = pywraplp.Solver.CreateSolver('GLOP')\n",
    "\n",
    "x = solver.NumVar(0.0, solver.infinity(), 'x')\n",
    "y = solver.NumVar(0.0, solver.infinity(), 'y')\n",
    "\n",
    "\n",
    "solver.Maximize(5*x+2*y)\n",
    "\n",
    "solver.Add(10*x+12*y<=60)\n",
    "solver.Add(2*x+1*y<=6)\n",
    "\n",
    "\n",
    "results = solver.Solve()\n",
    "\n",
    "print(f'Objeto valor:{solver.Objective().Value()}')\n",
    "print(f'Solução: x = {x.solution_value()}, y = {y.solution_value()}')"
   ]
  },
  {
   "cell_type": "code",
   "execution_count": 7,
   "id": "01703aef",
   "metadata": {},
   "outputs": [
    {
     "name": "stdout",
     "output_type": "stream",
     "text": [
      "Objeto valor:45.0\n",
      "Solução: x = 0.0, y = 3.0\n"
     ]
    }
   ],
   "source": [
    "#2\n",
    "from ortools.linear_solver import pywraplp\n",
    "solver = pywraplp.Solver.CreateSolver('GLOP')\n",
    "\n",
    "x = solver.NumVar(0.0, solver.infinity(), 'x')\n",
    "y = solver.NumVar(0.0, solver.infinity(), 'y')\n",
    "\n",
    "\n",
    "solver.Maximize(8*x+15*y)\n",
    "\n",
    "solver.Add(3*x+5*y<=15)\n",
    "solver.Add(5*x+2*y<=10)\n",
    "\n",
    "\n",
    "results = solver.Solve()\n",
    "\n",
    "print(f'Objeto valor:{solver.Objective().Value()}')\n",
    "print(f'Solução: x = {x.solution_value()}, y = {y.solution_value()}')"
   ]
  },
  {
   "cell_type": "code",
   "execution_count": 10,
   "id": "2dc9044a",
   "metadata": {},
   "outputs": [
    {
     "name": "stdout",
     "output_type": "stream",
     "text": [
      "Objeto valor:12.18181818181818\n",
      "Solução: x = 1.6363636363636362, y = 3.636363636363636\n"
     ]
    }
   ],
   "source": [
    "#3\n",
    "from ortools.linear_solver import pywraplp\n",
    "solver = pywraplp.Solver.CreateSolver('GLOP')\n",
    "\n",
    "x = solver.NumVar(0, solver.infinity(), 'x')\n",
    "y = solver.NumVar(0, solver.infinity(), 'y')\n",
    "\n",
    "\n",
    "solver.Minimize(3*x+2*y)\n",
    "\n",
    "solver.Add(5*x+6*y>=30)\n",
    "solver.Add(8*x+3*y>=24)\n",
    "solver.Add(2*x+5*y>=21)\n",
    "\n",
    "results = solver.Solve()\n",
    "\n",
    "print(f'Objeto valor:{solver.Objective().Value()}')\n",
    "print(f'Solução: x = {x.solution_value()}, y = {y.solution_value()}')"
   ]
  },
  {
   "cell_type": "code",
   "execution_count": 16,
   "id": "d97a14e4",
   "metadata": {},
   "outputs": [
    {
     "name": "stdout",
     "output_type": "stream",
     "text": [
      "Objeto valor:31.8888888888889\n",
      "Solução: x = 0.0, y = 6.111111111111114, z = 0.33333333333333215\n"
     ]
    }
   ],
   "source": [
    "#4\n",
    "from ortools.linear_solver import pywraplp\n",
    "solver = pywraplp.Solver.CreateSolver('GLOP')\n",
    "\n",
    "x = solver.NumVar(0, solver.infinity(), 'x')\n",
    "y = solver.NumVar(0, solver.infinity(), 'y')\n",
    "z = solver.NumVar(0, solver.infinity(), 'z')\n",
    "\n",
    "\n",
    "solver.Maximize(3*x+5*y+4*z)\n",
    "\n",
    "solver.Add(2*x+3*y+2*z<=19)\n",
    "solver.Add(5*x+4*y+1*z<=24.78)\n",
    "solver.Add(3*x+3*y+5*z<=20)\n",
    "\n",
    "results = solver.Solve()\n",
    "\n",
    "print(f'Objeto valor:{solver.Objective().Value()}')\n",
    "print(f'Solução: x = {x.solution_value()}, y = {y.solution_value()}, z = {z.solution_value()}')"
   ]
  },
  {
   "cell_type": "code",
   "execution_count": 19,
   "id": "0318c6cb",
   "metadata": {},
   "outputs": [
    {
     "name": "stdout",
     "output_type": "stream",
     "text": [
      "Objeto valor:17.0\n",
      "Solução: x = 3.0, y = 0.9999999999999998\n"
     ]
    }
   ],
   "source": [
    "#5\n",
    "from ortools.linear_solver import pywraplp\n",
    "solver = pywraplp.Solver.CreateSolver('GLOP')\n",
    "\n",
    "x = solver.NumVar(0.0, solver.infinity(), 'x')\n",
    "y = solver.NumVar(0.0, solver.infinity(), 'y')\n",
    "\n",
    "\n",
    "solver.Maximize(5*x+2*y)\n",
    "\n",
    "solver.Add(x+2*y<=9)\n",
    "solver.Add(x+3*y<=6)\n",
    "solver.Add(x<=3)\n",
    "\n",
    "\n",
    "results = solver.Solve()\n",
    "\n",
    "print(f'Objeto valor:{solver.Objective().Value()}')\n",
    "print(f'Solução: x = {x.solution_value()}, y = {y.solution_value()}')"
   ]
  },
  {
   "cell_type": "code",
   "execution_count": 20,
   "id": "530c67d6",
   "metadata": {},
   "outputs": [
    {
     "name": "stdout",
     "output_type": "stream",
     "text": [
      "Objeto valor:22.0\n",
      "Solução: x = 1.0000000000000002, y = 6.0\n"
     ]
    }
   ],
   "source": [
    "#6\n",
    "from ortools.linear_solver import pywraplp\n",
    "solver = pywraplp.Solver.CreateSolver('GLOP')\n",
    "\n",
    "x = solver.NumVar(0.0, solver.infinity(), 'x')\n",
    "y = solver.NumVar(0.0, solver.infinity(), 'y')\n",
    "\n",
    "\n",
    "solver.Maximize(4*x+3*y)\n",
    "\n",
    "solver.Add(3*x+2*y<=15)\n",
    "solver.Add(2*x+y<=8)\n",
    "solver.Add(y<=6)\n",
    "\n",
    "\n",
    "results = solver.Solve()\n",
    "\n",
    "print(f'Objeto valor:{solver.Objective().Value()}')\n",
    "print(f'Solução: x = {x.solution_value()}, y = {y.solution_value()}')"
   ]
  },
  {
   "cell_type": "code",
   "execution_count": 22,
   "id": "9d0af8d9",
   "metadata": {},
   "outputs": [
    {
     "name": "stdout",
     "output_type": "stream",
     "text": [
      "Objeto valor:11.25\n",
      "Solução: x = 0.0, y = 2.25\n"
     ]
    }
   ],
   "source": [
    "#7\n",
    "from ortools.linear_solver import pywraplp\n",
    "solver = pywraplp.Solver.CreateSolver('GLOP')\n",
    "\n",
    "x = solver.NumVar(0.0, solver.infinity(), 'x')\n",
    "y = solver.NumVar(0.0, solver.infinity(), 'y')\n",
    "\n",
    "\n",
    "solver.Maximize(5*x+5*y)\n",
    "\n",
    "solver.Add(6*x+4*y<=9)\n",
    "solver.Add(x+2*y<=6)\n",
    "solver.Add(x<=3)\n",
    "\n",
    "\n",
    "results = solver.Solve()\n",
    "\n",
    "print(f'Objeto valor:{solver.Objective().Value()}')\n",
    "print(f'Solução: x = {x.solution_value()}, y = {y.solution_value()}')"
   ]
  },
  {
   "cell_type": "code",
   "execution_count": 75,
   "id": "80ac0cd2",
   "metadata": {},
   "outputs": [
    {
     "name": "stdout",
     "output_type": "stream",
     "text": [
      "Objeto valor:57.0\n",
      "Solução: x = 5.0, y = 4.0\n"
     ]
    }
   ],
   "source": [
    "#8\n",
    "from ortools.linear_solver import pywraplp\n",
    "solver = pywraplp.Solver.CreateSolver('SCIP')\n",
    "\n",
    "x = solver.IntVar(0., solver.infinity(), 'x')\n",
    "y = solver.IntVar(0.0, solver.infinity(), 'y')\n",
    "\n",
    "\n",
    "solver.Maximize(9*x+3*y)\n",
    "\n",
    "solver.Add(2*x+y<=14)\n",
    "solver.Add(2*x+3*y<=22)\n",
    "solver.Add(x<=5)\n",
    "\n",
    "\n",
    "results = solver.Solve()\n",
    "\n",
    "print(f'Objeto valor:{solver.Objective().Value()}')\n",
    "print(f'Solução: x = {x.solution_value()}, y = {y.solution_value()}')"
   ]
  },
  {
   "cell_type": "code",
   "execution_count": 23,
   "id": "92c9a869",
   "metadata": {},
   "outputs": [
    {
     "name": "stdout",
     "output_type": "stream",
     "text": [
      "Objeto valor:3240.0\n",
      "Solução: x = 12.0, y = 0.0, z = 21.0\n"
     ]
    }
   ],
   "source": [
    "#9\n",
    "\n",
    "\n",
    "#FO: MaxL = 60x + 45y + 120z\n",
    "\n",
    "#VD: x=cama, y=cadeira, z=armario\n",
    "\n",
    "#R: \n",
    "### 1.3x + 1y + 2.1z <= 60\n",
    "### 0.3x + 0.4y + 1z <=25\n",
    "### 1x + 1.5y + 2z <= 34\n",
    "### x >=0, y >=0\n",
    "\n",
    "\n",
    "from ortools.linear_solver import pywraplp\n",
    "solver = pywraplp.Solver.CreateSolver('CBC')\n",
    "\n",
    "x = solver.IntVar(0.0, solver.infinity(), 'x')\n",
    "y = solver.IntVar(0.0, solver.infinity(), 'y')\n",
    "z = solver.IntVar(0.0, solver.infinity(), 'z')\n",
    "\n",
    "solver.Maximize(60*x+45*y+120*z)\n",
    "\n",
    "solver.Add(1.3*x+1*y+2.1*z<=60)\n",
    "solver.Add(0.3*x+0.4*y+1*z<=25)\n",
    "solver.Add(1*x+1.5*y+2*z<=64)\n",
    "\n",
    "results = solver.Solve()\n",
    "\n",
    "print(f'Objeto valor:{solver.Objective().Value()}')\n",
    "print(f'Solução: x = {x.solution_value()}, y = {y.solution_value()}, z = {z.solution_value()}')"
   ]
  },
  {
   "cell_type": "code",
   "execution_count": 22,
   "id": "421b20a4",
   "metadata": {},
   "outputs": [
    {
     "name": "stdout",
     "output_type": "stream",
     "text": [
      "Objeto valor:408.0\n",
      "Solução: x = 0.0, y = 48.0\n"
     ]
    }
   ],
   "source": [
    "#10\n",
    "\n",
    "#FO:7x+8.5y \n",
    "\n",
    "#VD: x=soleira, y = peitoral\n",
    "\n",
    "#R:\n",
    "### 0.096x + 0.12y <=16\n",
    "### 45x + 30y <= 24\n",
    "### x>=0, y>=0\n",
    "\n",
    "\n",
    "from ortools.linear_solver import pywraplp\n",
    "solver = pywraplp.Solver.CreateSolver('CBC')\n",
    "\n",
    "x = solver.IntVar(0, solver.infinity(), 'x')\n",
    "y = solver.IntVar(0, solver.infinity(), 'y')\n",
    "\n",
    "solver.Maximize(7*x+8.5*y)\n",
    "\n",
    "solver.Add(0.096 * x + 0.12 * y<=16)\n",
    "solver.Add(0.75*x + 0.5*y <= 24)\n",
    "\n",
    "\n",
    "results = solver.Solve()\n",
    "\n",
    "print(f'Objeto valor:{solver.Objective().Value()}')\n",
    "print(f'Solução: x = {x.solution_value()}, y = {y.solution_value()}')"
   ]
  },
  {
   "cell_type": "code",
   "execution_count": 21,
   "id": "b46f0471",
   "metadata": {},
   "outputs": [
    {
     "name": "stdout",
     "output_type": "stream",
     "text": [
      "Objeto valor:1863.1\n",
      "Solução: x = 153.0, y = 1.0, z = 1.0\n"
     ]
    }
   ],
   "source": [
    "#11\n",
    "\n",
    "#Fo:12x + 13.1y + 14*z\n",
    "\n",
    "#vd: t1=x, t2=y,t3=z\n",
    "\n",
    "#r:\n",
    "### 0.45*x+0.55*y + 0.60*z <=70\n",
    "### 0.25*x+0.21*y + 0.16*z<=40\n",
    "### 0.12 * x + 0.10 * y + 0.10*z<=20\n",
    "### 0.18 * x + 0.14*y+0.14*z<=28\n",
    "### x>=0, y>=0,z>=0\n",
    "\n",
    "from ortools.linear_solver import pywraplp\n",
    "solver = pywraplp.Solver.CreateSolver('CBC')\n",
    "\n",
    "x = solver.IntVar(0.0, solver.infinity(), 'x')\n",
    "y = solver.IntVar(0.0, solver.infinity(), 'y')\n",
    "z = solver.IntVar(0.0, solver.infinity(), 'z')\n",
    "\n",
    "solver.Maximize(12*x + 13.1*y + 14*z)\n",
    "\n",
    "solver.Add(0.45*x+0.55*y + 0.60*z <=70)\n",
    "solver.Add(0.25*x+0.21*y + 0.16*z<=40)\n",
    "solver.Add(0.12 * x + 0.10 * y + 0.10*z<=20)\n",
    "solver.Add(0.18 * x + 0.14*y+0.14*z<=28)\n",
    "\n",
    "results = solver.Solve()\n",
    "\n",
    "print(f'Objeto valor:{solver.Objective().Value()}')\n",
    "print(f'Solução: x = {x.solution_value()}, y = {y.solution_value()}, z = {z.solution_value()}')"
   ]
  },
  {
   "cell_type": "code",
   "execution_count": 20,
   "id": "b91f167d",
   "metadata": {},
   "outputs": [
    {
     "name": "stdout",
     "output_type": "stream",
     "text": [
      "Objeto valor:1678.0\n",
      "Solução: x = 12.0, y = 28.0\n"
     ]
    }
   ],
   "source": [
    "#12 \n",
    "\n",
    "#FO:50*x+38.50*y \n",
    "\n",
    "#VD: estante = x, mesa = y\n",
    "\n",
    "#R:\n",
    "### 3*x+2.6*y<=110\n",
    "### 36*x+24*y<=1140\n",
    "### 0.35*x + 0.22y<=12\n",
    "### 8*x + 6*y<=24*12\n",
    "### 16*x + 6*y<=15*24\n",
    "### x>=0, y>=0\n",
    "\n",
    "from ortools.linear_solver import pywraplp\n",
    "solver = pywraplp.Solver.CreateSolver('CBC')\n",
    "\n",
    "x = solver.IntVar(0.0, solver.infinity(), 'x')\n",
    "y = solver.IntVar(0.0, solver.infinity(), 'y')\n",
    "\n",
    "solver.Maximize(50*x+38.50*y)\n",
    "\n",
    "solver.Add(3*x+2.6*y<=110)\n",
    "solver.Add(36*x+24*y<=1140)\n",
    "solver.Add(0.35*x + 0.22*y<=12)\n",
    "solver.Add(8*x + 6*y<=288)\n",
    "solver.Add(16*x + 6*y<=360)\n",
    "\n",
    "results = solver.Solve()\n",
    "\n",
    "print(f'Objeto valor:{solver.Objective().Value()}')\n",
    "print(f'Solução: x = {x.solution_value()}, y = {y.solution_value()}')"
   ]
  },
  {
   "cell_type": "code",
   "execution_count": 32,
   "id": "8419d538",
   "metadata": {},
   "outputs": [
    {
     "name": "stdout",
     "output_type": "stream",
     "text": [
      "Objeto valor:928.0\n",
      "Solução: x = 91.0, y = 139.0, z = 8.0\n"
     ]
    }
   ],
   "source": [
    "#13\n",
    "\n",
    "#FO:5*x+3*y+7*z\n",
    "\n",
    "#VD: cam=x, bone = y, calcoes = z\n",
    "\n",
    "#R:\n",
    "### 1.1*x+0.45*y+1.5*z<=175\n",
    "### 35*x+26*y+35*z<=7200\n",
    "### x>=0, y>=0\n",
    "\n",
    "from ortools.linear_solver import pywraplp\n",
    "solver = pywraplp.Solver.CreateSolver('CBC')\n",
    "\n",
    "x = solver.IntVar(0.0, solver.infinity(), 'x')\n",
    "y = solver.IntVar(0.0, solver.infinity(), 'y')\n",
    "z = solver.IntVar(0.0, solver.infinity(), 'z')\n",
    "\n",
    "solver.Maximize(5*x+3*y+7*z)\n",
    "\n",
    "solver.Add(1.1*x+0.45*y+1.5*z<=175)\n",
    "solver.Add(35*x+26*y+50*z<=7200)\n",
    "\n",
    "results = solver.Solve()\n",
    "\n",
    "print(f'Objeto valor:{solver.Objective().Value()}')\n",
    "print(f'Solução: x = {x.solution_value()}, y = {y.solution_value()}, z = {z.solution_value()}')"
   ]
  },
  {
   "cell_type": "code",
   "execution_count": null,
   "id": "92d35a48",
   "metadata": {},
   "outputs": [],
   "source": [
    "#14\n"
   ]
  }
 ],
 "metadata": {
  "kernelspec": {
   "display_name": "Python 3",
   "language": "python",
   "name": "python3"
  },
  "language_info": {
   "codemirror_mode": {
    "name": "ipython",
    "version": 3
   },
   "file_extension": ".py",
   "mimetype": "text/x-python",
   "name": "python",
   "nbconvert_exporter": "python",
   "pygments_lexer": "ipython3",
   "version": "3.8.3"
  }
 },
 "nbformat": 4,
 "nbformat_minor": 5
}
